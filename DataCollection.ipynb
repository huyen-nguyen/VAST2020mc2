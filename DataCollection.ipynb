{
 "cells": [
  {
   "cell_type": "code",
   "execution_count": 2,
   "metadata": {
    "collapsed": true,
    "jupyter": {
     "outputs_hidden": true
    }
   },
   "outputs": [
    {
     "ename": "ValueError",
     "evalue": "dict contains fields not in fieldnames: 'first_name', 'last_name'",
     "output_type": "error",
     "traceback": [
      "\u001b[0;31m---------------------------------------------------------------------------\u001b[0m",
      "\u001b[0;31mValueError\u001b[0m                                Traceback (most recent call last)",
      "\u001b[0;32m<ipython-input-2-28f9529c60cb>\u001b[0m in \u001b[0;36m<module>\u001b[0;34m\u001b[0m\n\u001b[1;32m      6\u001b[0m \u001b[0;34m\u001b[0m\u001b[0m\n\u001b[1;32m      7\u001b[0m     \u001b[0mwriter\u001b[0m\u001b[0;34m.\u001b[0m\u001b[0mwriteheader\u001b[0m\u001b[0;34m(\u001b[0m\u001b[0;34m)\u001b[0m\u001b[0;34m\u001b[0m\u001b[0;34m\u001b[0m\u001b[0m\n\u001b[0;32m----> 8\u001b[0;31m     \u001b[0mwriter\u001b[0m\u001b[0;34m.\u001b[0m\u001b[0mwriterow\u001b[0m\u001b[0;34m(\u001b[0m\u001b[0;34m{\u001b[0m\u001b[0;34m'first_name'\u001b[0m\u001b[0;34m:\u001b[0m \u001b[0;34m'Baked'\u001b[0m\u001b[0;34m,\u001b[0m \u001b[0;34m'last_name'\u001b[0m\u001b[0;34m:\u001b[0m \u001b[0;34m'Beans'\u001b[0m\u001b[0;34m}\u001b[0m\u001b[0;34m)\u001b[0m\u001b[0;34m\u001b[0m\u001b[0;34m\u001b[0m\u001b[0m\n\u001b[0m\u001b[1;32m      9\u001b[0m     \u001b[0mwriter\u001b[0m\u001b[0;34m.\u001b[0m\u001b[0mwriterow\u001b[0m\u001b[0;34m(\u001b[0m\u001b[0;34m{\u001b[0m\u001b[0;34m'first_name'\u001b[0m\u001b[0;34m:\u001b[0m \u001b[0;34m'Lovely'\u001b[0m\u001b[0;34m,\u001b[0m \u001b[0;34m'last_name'\u001b[0m\u001b[0;34m:\u001b[0m \u001b[0;34m'Spam'\u001b[0m\u001b[0;34m}\u001b[0m\u001b[0;34m)\u001b[0m\u001b[0;34m\u001b[0m\u001b[0;34m\u001b[0m\u001b[0m\n\u001b[1;32m     10\u001b[0m     \u001b[0mwriter\u001b[0m\u001b[0;34m.\u001b[0m\u001b[0mwriterow\u001b[0m\u001b[0;34m(\u001b[0m\u001b[0;34m{\u001b[0m\u001b[0;34m'first_name'\u001b[0m\u001b[0;34m:\u001b[0m \u001b[0;34m'Wonderful'\u001b[0m\u001b[0;34m,\u001b[0m \u001b[0;34m'last_name'\u001b[0m\u001b[0;34m:\u001b[0m \u001b[0;34m'Spam'\u001b[0m\u001b[0;34m}\u001b[0m\u001b[0;34m)\u001b[0m\u001b[0;34m\u001b[0m\u001b[0;34m\u001b[0m\u001b[0m\n",
      "\u001b[0;32m/opt/anaconda3/envs/opencv/lib/python3.7/csv.py\u001b[0m in \u001b[0;36mwriterow\u001b[0;34m(self, rowdict)\u001b[0m\n\u001b[1;32m    153\u001b[0m \u001b[0;34m\u001b[0m\u001b[0m\n\u001b[1;32m    154\u001b[0m     \u001b[0;32mdef\u001b[0m \u001b[0mwriterow\u001b[0m\u001b[0;34m(\u001b[0m\u001b[0mself\u001b[0m\u001b[0;34m,\u001b[0m \u001b[0mrowdict\u001b[0m\u001b[0;34m)\u001b[0m\u001b[0;34m:\u001b[0m\u001b[0;34m\u001b[0m\u001b[0;34m\u001b[0m\u001b[0m\n\u001b[0;32m--> 155\u001b[0;31m         \u001b[0;32mreturn\u001b[0m \u001b[0mself\u001b[0m\u001b[0;34m.\u001b[0m\u001b[0mwriter\u001b[0m\u001b[0;34m.\u001b[0m\u001b[0mwriterow\u001b[0m\u001b[0;34m(\u001b[0m\u001b[0mself\u001b[0m\u001b[0;34m.\u001b[0m\u001b[0m_dict_to_list\u001b[0m\u001b[0;34m(\u001b[0m\u001b[0mrowdict\u001b[0m\u001b[0;34m)\u001b[0m\u001b[0;34m)\u001b[0m\u001b[0;34m\u001b[0m\u001b[0;34m\u001b[0m\u001b[0m\n\u001b[0m\u001b[1;32m    156\u001b[0m \u001b[0;34m\u001b[0m\u001b[0m\n\u001b[1;32m    157\u001b[0m     \u001b[0;32mdef\u001b[0m \u001b[0mwriterows\u001b[0m\u001b[0;34m(\u001b[0m\u001b[0mself\u001b[0m\u001b[0;34m,\u001b[0m \u001b[0mrowdicts\u001b[0m\u001b[0;34m)\u001b[0m\u001b[0;34m:\u001b[0m\u001b[0;34m\u001b[0m\u001b[0;34m\u001b[0m\u001b[0m\n",
      "\u001b[0;32m/opt/anaconda3/envs/opencv/lib/python3.7/csv.py\u001b[0m in \u001b[0;36m_dict_to_list\u001b[0;34m(self, rowdict)\u001b[0m\n\u001b[1;32m    149\u001b[0m             \u001b[0;32mif\u001b[0m \u001b[0mwrong_fields\u001b[0m\u001b[0;34m:\u001b[0m\u001b[0;34m\u001b[0m\u001b[0;34m\u001b[0m\u001b[0m\n\u001b[1;32m    150\u001b[0m                 raise ValueError(\"dict contains fields not in fieldnames: \"\n\u001b[0;32m--> 151\u001b[0;31m                                  + \", \".join([repr(x) for x in wrong_fields]))\n\u001b[0m\u001b[1;32m    152\u001b[0m         \u001b[0;32mreturn\u001b[0m \u001b[0;34m(\u001b[0m\u001b[0mrowdict\u001b[0m\u001b[0;34m.\u001b[0m\u001b[0mget\u001b[0m\u001b[0;34m(\u001b[0m\u001b[0mkey\u001b[0m\u001b[0;34m,\u001b[0m \u001b[0mself\u001b[0m\u001b[0;34m.\u001b[0m\u001b[0mrestval\u001b[0m\u001b[0;34m)\u001b[0m \u001b[0;32mfor\u001b[0m \u001b[0mkey\u001b[0m \u001b[0;32min\u001b[0m \u001b[0mself\u001b[0m\u001b[0;34m.\u001b[0m\u001b[0mfieldnames\u001b[0m\u001b[0;34m)\u001b[0m\u001b[0;34m\u001b[0m\u001b[0;34m\u001b[0m\u001b[0m\n\u001b[1;32m    153\u001b[0m \u001b[0;34m\u001b[0m\u001b[0m\n",
      "\u001b[0;31mValueError\u001b[0m: dict contains fields not in fieldnames: 'first_name', 'last_name'"
     ]
    }
   ],
   "source": [
    "import csv\n",
    "\n",
    "with open('names.csv', 'w', newline='') as csvfile:\n",
    "    fieldnames = ['x', 'y', 'Width', 'Height', 'Score', 'Label', 'Person', 'Image']\n",
    "    writer = csv.DictWriter(csvfile, fieldnames=fieldnames)\n",
    "\n",
    "    writer.writeheader()\n",
    "    writer.writerow({'first_name': 'Baked', 'last_name': 'Beans'})\n",
    "    writer.writerow({'first_name': 'Lovely', 'last_name': 'Spam'})\n",
    "    writer.writerow({'first_name': 'Wonderful', 'last_name': 'Spam'})"
   ]
  },
  {
   "cell_type": "code",
   "execution_count": 3,
   "metadata": {},
   "outputs": [
    {
     "name": "stdout",
     "output_type": "stream",
     "text": [
      "1 OrderedDict([('x', '1479'), ('y', '11'), ('Width', '1922'), ('Height', '1583'), ('Score', '0.33861'), ('Label', 'birdCall'), ('Person', 'Person1'), ('Image', 'Person1_1obj_1birdCall')])\n",
      "2 OrderedDict([('x', '2554'), ('y', '313'), ('Width', '955'), ('Height', '888'), ('Score', '0.28139'), ('Label', 'eyeball'), ('Person', 'Person1'), ('Image', 'Person1_1obj_2eyeball')])\n",
      "3 OrderedDict([('x', '1855'), ('y', '1724'), ('Width', '578'), ('Height', '1079'), ('Score', '0.34569'), ('Label', 'pinkCandle'), ('Person', 'Person1'), ('Image', 'Person1_1obj_3pinkCandle')])\n",
      "4 OrderedDict([('x', '14'), ('y', '666'), ('Width', '1465'), ('Height', '2309'), ('Score', '0.42683'), ('Label', 'pumpkinNotes'), ('Person', 'Person1'), ('Image', 'Person1_1obj_4pumpkinNotes')])\n",
      "5 OrderedDict([('x', '1560'), ('y', '1301'), ('Width', '1197'), ('Height', '615'), ('Score', '0.32564'), ('Label', 'blueSunglasses'), ('Person', 'Person1'), ('Image', 'Person1_1obj_5blueSunglasses')])\n",
      "6 OrderedDict([('x', '14'), ('y', '464'), ('Width', '1775'), ('Height', '2268'), ('Score', '0.38394'), ('Label', 'yellowBag'), ('Person', 'Person1'), ('Image', 'Person1_1obj_6yellowBag')])\n"
     ]
    }
   ],
   "source": [
    "import csv\n",
    "\n",
    "with open('names.csv', 'w', newline='') as csv_out:\n",
    "    fieldnames = ['x', 'y', 'Width', 'Height', 'Score', 'Label', 'Person', 'Image']\n",
    "    writer = csv.DictWriter(csv_out, fieldnames=fieldnames)\n",
    "    \n",
    "    writer.writeheader()\n",
    "\n",
    "    path = \"MC2-Image-Data/Person1/Person1_1\"\n",
    "    \n",
    "    with open(path + \".csv\", mode='r', encoding=\"latin-1\") as csv_in:\n",
    "        csv_reader = csv.DictReader(csv_in) \n",
    "        \n",
    "        for index, row in enumerate(csv_reader, start=1):\n",
    "            thisDict = row.copy()\n",
    "            thisDict['Person'] = \"Person1\"\n",
    "            thisDict['Image'] = \"Person1_1\" + \"obj_\" + str(index) + row[\"Label\"] \n",
    "            print(index, thisDict)"
   ]
  },
  {
   "cell_type": "code",
   "execution_count": 4,
   "metadata": {},
   "outputs": [
    {
     "name": "stdout",
     "output_type": "stream",
     "text": [
      "done!\n"
     ]
    }
   ],
   "source": [
    "import os\n",
    "import csv\n",
    "\n",
    "with open('newData.csv', 'w', newline='') as csv_out:\n",
    "    fieldnames = ['x', 'y', 'Width', 'Height', 'Score', 'Label', 'Person', 'Image']\n",
    "    writer = csv.DictWriter(csv_out, fieldnames=fieldnames)\n",
    "    \n",
    "    writer.writeheader()\n",
    "    \n",
    "    with os.scandir(\"MC2-Image-Data\") as main_dir:\n",
    "        for entry_dir in main_dir:\n",
    "            if entry_dir.name.startswith(\"Person\") and entry_dir.is_dir():\n",
    "                with os.scandir(entry_dir.path) as person_dir:\n",
    "                    item_length = 0\n",
    "                    for entry in person_dir:\n",
    "                        if entry.name.endswith(\".csv\") and entry.is_file():\n",
    "                            with open(entry.path, mode='r', encoding=\"latin-1\") as csv_in:\n",
    "                                csv_reader = csv.DictReader(csv_in)\n",
    "                                for index, row in enumerate(csv_reader, start=1):\n",
    "                                    if row[\"x\"].isdigit() and row[\"y\"].isdigit():\n",
    "                                        thisDict = row.copy()\n",
    "                                        thisDict['Person'] = entry_dir.name\n",
    "                                        thisDict['Image'] = entry.name[:-4] + \"obj_\" + str(index) + row[\"Label\"] \n",
    "                                        writer.writerow(thisDict)\n",
    "                                    else:\n",
    "                                        thisDict = row.copy()\n",
    "                                        thisDict['x'] = -1\n",
    "                                        thisDict['y'] = -1\n",
    "                                        thisDict['Person'] = entry_dir.name\n",
    "                                        thisDict['Image'] = entry.name[:-4] + \"obj_\" + str(index) + row[\"Label\"] \n",
    "                                        writer.writerow(thisDict)\n",
    "                                    \n",
    "        print(\"done!\")\n"
   ]
  },
  {
   "cell_type": "code",
   "execution_count": 16,
   "metadata": {},
   "outputs": [
    {
     "name": "stdout",
     "output_type": "stream",
     "text": [
      "done!\n"
     ]
    }
   ],
   "source": [
    "import os\n",
    "import csv\n",
    "\n",
    "with open('names.csv', 'w', newline='') as csv_out:\n",
    "    fieldnames = ['x', 'y', 'Width', 'Height', 'Score', 'Label', 'Person', 'Image']\n",
    "    writer = csv.DictWriter(csv_out, fieldnames=fieldnames)\n",
    "    \n",
    "    writer.writeheader()\n",
    "    \n",
    "    with os.scandir(\"MC2-Image-Data\") as main_dir:\n",
    "        for entry_dir in main_dir:\n",
    "            if entry_dir.name.startswith(\"Person\") and entry_dir.is_dir():\n",
    "                with os.scandir(entry_dir.path) as person_dir:\n",
    "                    item_length = 0\n",
    "                    for entry in person_dir:\n",
    "                        if entry.name.endswith(\".csv\") and entry.is_file():\n",
    "                            with open(entry.path, mode='r', encoding=\"latin-1\") as csv_in:\n",
    "                                csv_reader = csv.DictReader(csv_in)\n",
    "                                for row in csv_reader:\n",
    "                                    if row[\"x\"].isdigit() and row[\"y\"].isdigit():\n",
    "                                        thisDict = row.copy()\n",
    "                                        thisDict['Person'] = entry_dir.name\n",
    "                                        thisDict['Image'] = entry.name[:-4]\n",
    "                                        writer.writerow(thisDict)\n",
    "                                    else:\n",
    "                                        thisDict = row.copy()\n",
    "                                        thisDict['x'] = -1\n",
    "                                        thisDict['y'] = -1\n",
    "                                        thisDict['Person'] = entry_dir.name\n",
    "                                        thisDict['Image'] = entry.name[:-4]\n",
    "                                        writer.writerow(thisDict)\n",
    "                                    \n",
    "        print(\"done!\")\n"
   ]
  },
  {
   "cell_type": "code",
   "execution_count": 4,
   "metadata": {},
   "outputs": [
    {
     "name": "stdout",
     "output_type": "stream",
     "text": [
      "['canadaPencil', 'giftBag', 'hairClip', 'silverStraw', 'cloudSign', 'redBow', 'turtle', 'gClamp', 'pumpkinNotes', 'rainbowPens', 'glassBead', 'eyeball', 'legoBracelet', 'trophy', 'stickerBox', 'rubiksCube', 'noisemaker', 'spiderRing', 'partyFavor', 'miniCards', 'pinkEraser', 'foamDart', 'birdCall', 'yellowBag', 'gyroscope', 'cupcakePaper', 'cactusPaper', 'blueSunglasses', 'redWhistle', 'cowbell', 'lavenderDie', 'brownDie', 'plaidPencil', 'metalKey', 'carabiner', 'yellowBalloon', 'voiceRecorder', 'redDart', 'sign', 'paperPlate', 'pinkCandle', 'vancouverCards', 'hairRoller']\n"
     ]
    }
   ],
   "source": [
    "# ---------- GET LIST OF CLASSES ------------\n",
    "import os\n",
    "\n",
    "classes = []\n",
    "\n",
    "with os.scandir(\"MC2-Image-Data\") as main_dir:\n",
    "    for entry_dir in main_dir:\n",
    "        if entry_dir.name.startswith(\"Training\") and entry_dir.is_dir():\n",
    "            with os.scandir(entry_dir.path) as person_dir:\n",
    "                for entry in person_dir:\n",
    "                    classes.append(entry.name)\n",
    "            print(classes)"
   ]
  },
  {
   "cell_type": "code",
   "execution_count": null,
   "metadata": {},
   "outputs": [],
   "source": [
    "[\"birdCall\", \"blueSunglasses\", \"brownDie\", \"cactusPaper\", \"canadaPencil\", \"carabiner\", \"cloudSign\", \"cowbell\", \"cupcakePaper\", \"eyeball\", \"foamDart\", \"gClamp\", \"giftBag\", \"glassBead\", \"gyroscope\", \"hairClip\", \"hairRoller\", \"lavenderDie\", \"legoBracelet\", \"metalKey\", \"miniCards\", \"noisemaker\", \"paperPlate\", \"partyFavor\", \"pinkCandle\", \"pinkEraser\", \"plaidPencil\", \"pumpkinNotes\", \"rainbowPens\", \"redBow\", \"redDart\", \"redWhistle\", \"rubiksCube\", \"sign\", \"silverStraw\", \"spiderRing\", \"stickerBox\", \"trophy\", \"turtle\", \"vancouverCards\", \"voiceRecorder\", \"yellowBag\", \"yellowBalloon\"]"
   ]
  }
 ],
 "metadata": {
  "kernelspec": {
   "display_name": "Python 3",
   "language": "python",
   "name": "python3"
  },
  "language_info": {
   "codemirror_mode": {
    "name": "ipython",
    "version": 3
   },
   "file_extension": ".py",
   "mimetype": "text/x-python",
   "name": "python",
   "nbconvert_exporter": "python",
   "pygments_lexer": "ipython3",
   "version": "3.7.6"
  }
 },
 "nbformat": 4,
 "nbformat_minor": 4
}
