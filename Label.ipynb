{
 "cells": [
  {
   "cell_type": "code",
   "execution_count": 10,
   "metadata": {},
   "outputs": [
    {
     "name": "stdout",
     "output_type": "stream",
     "text": [
      "1 canadaPencil\n",
      "2 giftBag\n",
      "3 hairClip\n",
      "4 silverStraw\n",
      "5 cloudSign\n",
      "6 redBow\n",
      "7 turtle\n",
      "8 gClamp\n",
      "9 pumpkinNotes\n",
      "10 rainbowPens\n",
      "11 glassBead\n",
      "12 eyeball\n",
      "13 legoBracelet\n",
      "14 trophy\n",
      "15 stickerBox\n",
      "16 rubiksCube\n",
      "17 noisemaker\n",
      "18 spiderRing\n",
      "19 partyFavor\n",
      "20 miniCards\n",
      "21 pinkEraser\n",
      "22 foamDart\n",
      "23 birdCall\n",
      "24 yellowBag\n",
      "25 gyroscope\n",
      "26 cupcakePaper\n",
      "27 cactusPaper\n",
      "28 blueSunglasses\n",
      "29 redWhistle\n",
      "30 cowbell\n",
      "31 lavenderDie\n",
      "32 brownDie\n",
      "33 plaidPencil\n",
      "34 metalKey\n",
      "35 carabiner\n",
      "36 yellowBalloon\n",
      "37 voiceRecorder\n",
      "38 redDart\n",
      "39 sign\n",
      "40 paperPlate\n",
      "41 pinkCandle\n",
      "42 vancouverCards\n",
      "43 hairRoller\n"
     ]
    }
   ],
   "source": [
    "# ---------- READ EVERY PATH ----------\n",
    "import os\n",
    "import csv\n",
    "\n",
    "count_dir = 0\n",
    "with os.scandir(\"TrainingImages\") as main_dir:\n",
    "    for entry_dir in main_dir:\n",
    "        if entry_dir.is_dir():\n",
    "            with os.scandir(entry_dir.path) as person_dir:\n",
    "                count_dir += 1\n",
    "                print(count_dir, entry_dir.name)\n",
    "                for entry in person_dir:\n",
    "                    if entry.name.endswith(\".csv\") and entry.is_file():\n",
    "                        item_length += 1    # count # of csv file\n",
    "                        with open(entry.path, mode='r', encoding=\"latin-1\") as csv_file:\n",
    "                            csv_reader = csv.DictReader(csv_file)\n",
    "                            object_length = 0\n",
    "                            for row in csv_reader:\n",
    "                                object_length += 1\n",
    "                                print(f'box {object_length}: {row[\"Label\"]}, {row[\"Score\"]}')\n",
    "                     \n",
    "                      \n",
    "                            "
   ]
  },
  {
   "cell_type": "code",
   "execution_count": null,
   "metadata": {},
   "outputs": [],
   "source": []
  }
 ],
 "metadata": {
  "kernelspec": {
   "display_name": "Python 3",
   "language": "python",
   "name": "python3"
  },
  "language_info": {
   "codemirror_mode": {
    "name": "ipython",
    "version": 3
   },
   "file_extension": ".py",
   "mimetype": "text/x-python",
   "name": "python",
   "nbconvert_exporter": "python",
   "pygments_lexer": "ipython3",
   "version": "3.7.7"
  }
 },
 "nbformat": 4,
 "nbformat_minor": 4
}
