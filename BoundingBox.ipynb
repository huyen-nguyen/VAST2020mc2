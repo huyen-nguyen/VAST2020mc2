{
 "cells": [
  {
   "cell_type": "code",
   "execution_count": 1,
   "metadata": {},
   "outputs": [
    {
     "name": "stdout",
     "output_type": "stream",
     "text": [
      "Hello World 1\n"
     ]
    }
   ],
   "source": [
    " print(\"Hello World 1\")"
   ]
  },
  {
   "cell_type": "code",
   "execution_count": 2,
   "metadata": {},
   "outputs": [
    {
     "name": "stdout",
     "output_type": "stream",
     "text": [
      "model Mustang\n",
      "year 1964\n"
     ]
    }
   ],
   "source": [
    "thisdict = {\n",
    "    \"model\": \"Mustang\",\n",
    "    \"year\": 1964\n",
    "}\n",
    "\n",
    "for x, y in thisdict.items():\n",
    "    print(x, y)"
   ]
  },
  {
   "cell_type": "code",
   "execution_count": 1,
   "metadata": {},
   "outputs": [
    {
     "name": "stdout",
     "output_type": "stream",
     "text": [
      "Column names are x, y, Width, Height, Score, Label\n",
      "box 1 is a birdCall at (1479, 11)\n",
      "birdCall\n",
      "box 2 is a eyeball at (2554, 313)\n",
      "eyeball\n",
      "box 3 is a pinkCandle at (1855, 1724)\n",
      "pinkCandle\n",
      "box 4 is a pumpkinNotes at (14, 666)\n",
      "pumpkinNotes\n",
      "box 5 is a blueSunglasses at (1560, 1301)\n",
      "blueSunglasses\n",
      "box 6 is a yellowBag at (14, 464)\n",
      "yellowBag\n"
     ]
    }
   ],
   "source": [
    "# ------- READ CSV --------\n",
    "\n",
    "import csv\n",
    "\n",
    "with open(\"MC2-Image-Data/Person1/Person1_1.csv\", mode='r') as csv_file:\n",
    "    csv_reader = csv.DictReader(csv_file)\n",
    "    line_count = 0\n",
    "    for row in csv_reader:\n",
    "        if line_count == 0:\n",
    "            print(f'Column names are {\", \".join(row)}')\n",
    "            line_count += 1\n",
    "        print(f'box {line_count} is a {row[\"Label\"]} at ({row[\"x\"]}, {row[\"y\"]})')\n",
    "        print(row[\"Label\"])\n",
    "        line_count += 1"
   ]
  },
  {
   "cell_type": "code",
   "execution_count": 42,
   "metadata": {},
   "outputs": [
    {
     "name": "stdout",
     "output_type": "stream",
     "text": [
      "3.4.2\n"
     ]
    },
    {
     "data": {
      "text/plain": [
       "-1"
      ]
     },
     "execution_count": 42,
     "metadata": {},
     "output_type": "execute_result"
    }
   ],
   "source": [
    "# -------- LOAD IMAGE ---------\n",
    "\n",
    "import cv2\n",
    "\n",
    "print(cv2.__version__)\n",
    "\n",
    "img = cv2.imread(\"test.png\", cv2.IMREAD_COLOR)\n",
    "\n",
    "x = 10\n",
    "y = 10\n",
    "Width = 200\n",
    "Height = 200\n",
    "Score = 0.52132\n",
    "Label = \"orange\"\n",
    "\n",
    "# Rectangle ---------------------------------------\n",
    "color = (0,255,0)\n",
    "\n",
    "cv2.rectangle(img, (x, y), (x+Width, y+Height), color, 2)\n",
    "cv2.rectangle(img, (x, y), (x + Width - 20, y + 20), color, -1)\n",
    "\n",
    "# TEXT ----------------------------------------\n",
    "\n",
    "# font \n",
    "font = cv2.FONT_HERSHEY_DUPLEX\n",
    "\n",
    "# coordinates \n",
    "orgLabel = (x + 5, y + 13) \n",
    "orgScore = (x + Width - 90, y + 13) \n",
    "\n",
    "# fontScale \n",
    "fontScale = 0.5\n",
    "   \n",
    "# Blue color in BGR \n",
    "color = (0, 0, 0) \n",
    "\n",
    "# Line thickness of 2 px \n",
    "thickness = 1\n",
    "   \n",
    "# Using cv2.putText() method \n",
    "img = cv2.putText(img, f'{Label}', orgLabel, font,  \n",
    "                   fontScale, color, thickness, cv2.LINE_AA) \n",
    "\n",
    "img = cv2.putText(img, f'{Score}', orgScore, font,  \n",
    "                   fontScale, color, thickness, cv2.LINE_AA) \n",
    "   \n",
    "\n",
    "# DISPLAY ----------------------------------------\n",
    "cv2.imshow(\"output\", img) \n",
    "\n",
    "cv2.imwrite(\"output.png\",img)\n",
    "\n",
    "cv2.waitKey(0)\n",
    "cv2.destroyAllWindows()\n",
    "cv2.waitKey(1)"
   ]
  },
  {
   "cell_type": "code",
   "execution_count": null,
   "metadata": {},
   "outputs": [
    {
     "name": "stdout",
     "output_type": "stream",
     "text": [
      "Column names are x, y, Width, Height, Score, Label\n",
      "box 1: cloudSign\n",
      "box 2: eyeball\n",
      "box 3: pinkCandle\n",
      "box 4: sign\n",
      "box 5: blueSunglasses\n",
      "box 6: yellowBag\n"
     ]
    }
   ],
   "source": [
    "# ---------- DRAW BOUNDING BOX FOR ONE PAIR ------------\n",
    "\n",
    "import csv\n",
    "import cv2\n",
    "\n",
    "path = \"MC2-Image-Data/Person1/Person1_4\"\n",
    "# path = \"test\"\n",
    "\n",
    "def drawBox(row, img, line_count):\n",
    "    x = int(row[\"x\"])\n",
    "    y = int(row[\"y\"])\n",
    "    Width = int(row[\"Width\"])\n",
    "    Height = int(row[\"Height\"])\n",
    "    Score = row[\"Score\"]\n",
    "    Label = row[\"Label\"]\n",
    "    \n",
    "    def color(x):\n",
    "        switcher = {\n",
    "            0: (255, 0, 255), # fuchsia\n",
    "            1: (0, 255, 0), # green\n",
    "            2: (10, 255, 255), # neon green\n",
    "            3: (0, 53, 255), # red\n",
    "            4: (252, 255, 0), \n",
    "            5: (141, 135, 255), \n",
    "            \n",
    "        }\n",
    "        return switcher.get(int(x)%6)\n",
    "    \n",
    "    # Rectangle ---------------------------------------\n",
    "    recColor = color(line_count)\n",
    "    cv2.rectangle(img, (x, y), (x+Width, y+Height), recColor, 6)\n",
    "    \n",
    "    cv2.rectangle(img, (x, y), (x + Width - 200, y + 70) if Width > 600 else (x + 400, y + 140), recColor, -1)\n",
    "        \n",
    "    # TEXT ----------------------------------------\n",
    "\n",
    "    # font \n",
    "    font = cv2.FONT_HERSHEY_DUPLEX\n",
    "\n",
    "    # coordinates \n",
    "    orgLabel = (x + 5, y + 50) \n",
    "    orgScore = (x + Width - 500, y + 50) if Width > 600 else (x + 5, y + 120)\n",
    "\n",
    "    # fontScale \n",
    "    fontScale = 2\n",
    "\n",
    "    # Blue color in BGR \n",
    "    color = (0, 0, 0) \n",
    "\n",
    "    # Line thickness of 2 px \n",
    "    thickness = 2\n",
    "\n",
    "    # Using cv2.putText() method \n",
    "    img = cv2.putText(img, f'{Label}', orgLabel, font,  \n",
    "                       fontScale, color, thickness, cv2.LINE_AA) \n",
    "\n",
    "    img = cv2.putText(img, f'{Score}', orgScore, font,  \n",
    "                       fontScale, color, thickness, cv2.LINE_AA) \n",
    "    \n",
    "\n",
    "with open(path + \".csv\", mode='r') as csv_file:\n",
    "    csv_reader = csv.DictReader(csv_file)\n",
    "    line_count = 0\n",
    "    \n",
    "    img = cv2.imread(path + \".jpg\", cv2.IMREAD_COLOR)\n",
    "\n",
    "    for row in csv_reader:\n",
    "        if line_count == 0:\n",
    "            print(f'Column names are {\", \".join(row)}')\n",
    "            line_count += 1\n",
    "        print(f'box {line_count}: {row[\"Label\"]}')\n",
    "        \n",
    "        # Draw each box and label\n",
    "        drawBox(row, img, line_count)\n",
    "        line_count += 1\n",
    "        \n",
    "    cv2.imshow(path + \"_output\", img) \n",
    "\n",
    "    cv2.imwrite(path + \"bbox.jpg\",img)\n",
    "    \n",
    "    cv2.waitKey(0)\n",
    "    cv2.destroyAllWindows()\n",
    "    cv2.waitKey(1)"
   ]
  },
  {
   "cell_type": "code",
   "execution_count": null,
   "metadata": {},
   "outputs": [],
   "source": []
  }
 ],
 "metadata": {
  "kernelspec": {
   "display_name": "Python 3",
   "language": "python",
   "name": "python3"
  },
  "language_info": {
   "codemirror_mode": {
    "name": "ipython",
    "version": 3
   },
   "file_extension": ".py",
   "mimetype": "text/x-python",
   "name": "python",
   "nbconvert_exporter": "python",
   "pygments_lexer": "ipython3",
   "version": "3.7.7"
  }
 },
 "nbformat": 4,
 "nbformat_minor": 4
}
