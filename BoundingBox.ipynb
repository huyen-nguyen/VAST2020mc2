{
 "cells": [
  {
   "cell_type": "code",
   "execution_count": 1,
   "metadata": {},
   "outputs": [
    {
     "name": "stdout",
     "output_type": "stream",
     "text": [
      "Hello World 1\n"
     ]
    }
   ],
   "source": [
    " print(\"Hello World 1\")"
   ]
  },
  {
   "cell_type": "code",
   "execution_count": 2,
   "metadata": {},
   "outputs": [
    {
     "name": "stdout",
     "output_type": "stream",
     "text": [
      "model Mustang\n",
      "year 1964\n"
     ]
    }
   ],
   "source": [
    "thisdict = {\n",
    "    \"model\": \"Mustang\",\n",
    "    \"year\": 1964\n",
    "}\n",
    "\n",
    "for x, y in thisdict.items():\n",
    "    print(x, y)"
   ]
  },
  {
   "cell_type": "code",
   "execution_count": 1,
   "metadata": {},
   "outputs": [
    {
     "name": "stdout",
     "output_type": "stream",
     "text": [
      "Column names are x, y, Width, Height, Score, Label\n",
      "box 1 is a birdCall at (1479, 11)\n",
      "birdCall\n",
      "box 2 is a eyeball at (2554, 313)\n",
      "eyeball\n",
      "box 3 is a pinkCandle at (1855, 1724)\n",
      "pinkCandle\n",
      "box 4 is a pumpkinNotes at (14, 666)\n",
      "pumpkinNotes\n",
      "box 5 is a blueSunglasses at (1560, 1301)\n",
      "blueSunglasses\n",
      "box 6 is a yellowBag at (14, 464)\n",
      "yellowBag\n"
     ]
    }
   ],
   "source": [
    "# ------- READ CSV --------\n",
    "\n",
    "import csv\n",
    "\n",
    "with open(\"MC2-Image-Data/Person1/Person1_1.csv\", mode='r') as csv_file:\n",
    "    csv_reader = csv.DictReader(csv_file)\n",
    "    line_count = 0\n",
    "    for row in csv_reader:\n",
    "        if line_count == 0:\n",
    "            print(f'Column names are {\", \".join(row)}')\n",
    "            line_count += 1\n",
    "        print(f'box {line_count} is a {row[\"Label\"]} at ({row[\"x\"]}, {row[\"y\"]})')\n",
    "        print(row[\"Label\"])\n",
    "        line_count += 1"
   ]
  },
  {
   "cell_type": "code",
   "execution_count": null,
   "metadata": {},
   "outputs": [],
   "source": [
    "# -------- LOAD IMAGE ---------\n",
    "\n",
    "import cv2\n",
    "\n",
    "print(cv2.__version__)\n",
    "# img = cv2.imread(\"MC2-Image-Data/Person1/Person1_1.jpg\", cv2.IMREAD_COLOR)\n",
    "img = cv2.imread(\"test.png\", cv2.IMREAD_COLOR)\n",
    "\n",
    "x = 10\n",
    "y = 10\n",
    "Width = 200\n",
    "Height = 200\n",
    "Score = 0.52132\n",
    "Label = \"orange\"\n",
    "\n",
    "# Rectangle ---------------------------------------\n",
    "cv2.rectangle(img, (x, y), (x+Width, y+Height), (0,255,0), 2)\n",
    "cv2.rectangle(img, (x, y), (x + Width - 20, y + 20), (0,255,0), -1)\n",
    "\n",
    "# Saving the image  \n",
    "cv2.imwrite(\"output.png\",img)\n",
    "\n",
    "# TEXT ----------------------------------------\n",
    "\n",
    "# font \n",
    "font = cv2.FONT_HERSHEY_DUPLEX\n",
    "\n",
    "# coordinates \n",
    "orgLabel = (x + 5, y + 13) \n",
    "orgScore = (x + Width, y + 13) \n",
    "\n",
    "# fontScale \n",
    "fontScale = 0.5\n",
    "   \n",
    "# Blue color in BGR \n",
    "color = (0, 0, 0) \n",
    "\n",
    "# Line thickness of 2 px \n",
    "thickness = 1\n",
    "   \n",
    "# Using cv2.putText() method \n",
    "img = cv2.putText(img, f'{Label}', orgLabel, font,  \n",
    "                   fontScale, color, thickness, cv2.LINE_AA) \n",
    "\n",
    "img = cv2.putText(img, f'{Score}', orgScore, font,  \n",
    "                   fontScale, color, thickness, cv2.LINE_AA) \n",
    "   \n",
    "\n",
    "# Display ----------------------------------------\n",
    "cv2.imshow(\"output\", img) \n",
    "\n",
    "cv2.imwrite(\"output.png\",img)\n",
    "\n",
    "cv2.waitKey(0)\n",
    "cv2.destroyAllWindows()\n",
    "cv2.waitKey(1)"
   ]
  },
  {
   "cell_type": "code",
   "execution_count": null,
   "metadata": {},
   "outputs": [],
   "source": []
  }
 ],
 "metadata": {
  "kernelspec": {
   "display_name": "Python 3",
   "language": "python",
   "name": "python3"
  },
  "language_info": {
   "codemirror_mode": {
    "name": "ipython",
    "version": 3
   },
   "file_extension": ".py",
   "mimetype": "text/x-python",
   "name": "python",
   "nbconvert_exporter": "python",
   "pygments_lexer": "ipython3",
   "version": "3.7.7"
  }
 },
 "nbformat": 4,
 "nbformat_minor": 4
}
